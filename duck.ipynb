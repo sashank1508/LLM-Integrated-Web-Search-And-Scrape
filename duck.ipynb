{
 "cells": [
  {
   "cell_type": "code",
   "execution_count": null,
   "metadata": {},
   "outputs": [],
   "source": [
    "import requests\n",
    "from bs4 import BeautifulSoup\n",
    "from urllib.parse import unquote, urlparse, parse_qs\n",
    "import asyncio\n",
    "\n",
    "async def duckduckgo_search(query, num_results=10):\n",
    "    url = f\"https://html.duckduckgo.com/html/?q={query}\"\n",
    "    response = requests.get(url)\n",
    "    soup = BeautifulSoup(response.text, \"html.parser\")\n",
    "    results = soup.find_all(\"a\", class_=\"result__url\", limit=num_results)\n",
    "    \n",
    "    urls = []\n",
    "    for result in results:\n",
    "        raw_url = result[\"href\"]\n",
    "        parsed_url = urlparse(raw_url)\n",
    "        query_params = parse_qs(parsed_url.query)\n",
    "        if \"uddg\" in query_params:\n",
    "            decoded_url = unquote(query_params[\"uddg\"][0])\n",
    "            urls.append(decoded_url)\n",
    "    \n",
    "    return urls"
   ]
  },
  {
   "cell_type": "code",
   "execution_count": 10,
   "metadata": {},
   "outputs": [
    {
     "name": "stdout",
     "output_type": "stream",
     "text": [
      "https://en.wikipedia.org/wiki/India\n",
      "https://www.britannica.com/place/India\n",
      "https://www.cia.gov/the-world-factbook/countries/india/\n",
      "https://simple.wikipedia.org/wiki/India\n",
      "https://www.britannica.com/facts/India\n",
      "https://kids.nationalgeographic.com/geography/countries/article/india\n",
      "https://www.cia.gov/the-world-factbook/about/archives/2021/countries/india/\n",
      "https://www.britannica.com/place/India/History\n",
      "https://www.bbc.com/news/world-south-asia-12557384\n",
      "https://www.worldatlas.com/maps/india\n"
     ]
    }
   ],
   "source": [
    "async def main():\n",
    "    results = await duckduckgo_search('India')\n",
    "    for result in results:\n",
    "        print(result)\n",
    "\n",
    "task = asyncio.create_task(main())\n",
    "await task"
   ]
  }
 ],
 "metadata": {
  "kernelspec": {
   "display_name": ".venv",
   "language": "python",
   "name": "python3"
  },
  "language_info": {
   "codemirror_mode": {
    "name": "ipython",
    "version": 3
   },
   "file_extension": ".py",
   "mimetype": "text/x-python",
   "name": "python",
   "nbconvert_exporter": "python",
   "pygments_lexer": "ipython3",
   "version": "3.12.3"
  }
 },
 "nbformat": 4,
 "nbformat_minor": 2
}
