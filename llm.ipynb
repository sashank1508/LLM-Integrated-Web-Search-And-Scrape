{
 "cells": [
  {
   "cell_type": "code",
   "execution_count": 5,
   "metadata": {},
   "outputs": [],
   "source": [
    "import os\n",
    "from openai import AsyncOpenAI\n",
    "from dotenv import load_dotenv\n",
    "\n",
    "openai_api_key = os.environ.get('OPENAI_API_KEY')\n",
    "if openai_api_key is None:\n",
    "    load_dotenv()\n",
    "    openai_api_key = os.getenv('OPENAI_API_KEY')\n",
    "if not openai_api_key:\n",
    "    raise EnvironmentError(\"OPENAI_API_KEY is missing in environment variables.\")\n",
    "\n",
    "def openai_client():\n",
    "    return AsyncOpenAI(api_key=openai_api_key)"
   ]
  },
  {
   "cell_type": "code",
   "execution_count": 6,
   "metadata": {},
   "outputs": [],
   "source": [
    "async def llm(query: str) -> str:\n",
    "    prompt = f\"{query}\"\n",
    "    try:\n",
    "        chat_completion = await openai_client().chat.completions.create(\n",
    "            model=\"gpt-4o-mini\",\n",
    "            temperature=0,\n",
    "            messages=[\n",
    "                {\"role\": \"system\", \"content\": \"You are a helpful AI assistant.\"},\n",
    "                {\"role\": \"user\", \"content\": prompt},\n",
    "            ])\n",
    "        return chat_completion.choices[0].message.content\n",
    "    except Exception as e:\n",
    "        logger.error(f\"Error generating LLM response: {e}\")\n",
    "        raise HTTPException(status_code=500, detail=\"Failed to generate response\")"
   ]
  },
  {
   "cell_type": "code",
   "execution_count": 7,
   "metadata": {},
   "outputs": [
    {
     "name": "stdout",
     "output_type": "stream",
     "text": [
      "A Large Language Model (LLM) is a type of artificial intelligence designed to understand, generate, and manipulate human language. Here are some of the primary uses of LLMs:\n",
      "\n",
      "1. **Text Generation**: LLMs can create coherent and contextually relevant text based on prompts. This can be used for writing articles, stories, poetry, and more.\n",
      "\n",
      "2. **Conversational Agents**: They power chatbots and virtual assistants, enabling them to engage in natural language conversations with users, answering questions, providing information, and assisting with tasks.\n",
      "\n",
      "3. **Language Translation**: LLMs can translate text from one language to another, facilitating communication across language barriers.\n",
      "\n",
      "4. **Content Summarization**: They can summarize long articles or documents, extracting key points and presenting them in a concise format.\n",
      "\n",
      "5. **Sentiment Analysis**: LLMs can analyze text to determine the sentiment behind it, which is useful for understanding customer feedback, social media posts, and reviews.\n",
      "\n",
      "6. **Text Classification**: They can categorize text into predefined classes, which is useful for spam detection, topic identification, and more.\n",
      "\n",
      "7. **Question Answering**: LLMs can answer questions based on a given context or knowledge base, making them useful for educational tools and customer support.\n",
      "\n",
      "8. **Code Generation and Assistance**: Some LLMs are trained to understand programming languages and can assist in writing code, debugging, or providing explanations of code snippets.\n",
      "\n",
      "9. **Personalization**: They can be used to tailor content and recommendations based on user preferences and behavior.\n",
      "\n",
      "10. **Creative Applications**: LLMs can assist in brainstorming ideas, generating creative content, and even composing music or scripts.\n",
      "\n",
      "Overall, LLMs are versatile tools that can enhance productivity, creativity, and communication across various domains.\n"
     ]
    }
   ],
   "source": [
    "prompt = \"What is the use of an LLM?\"\n",
    "response = await llm(prompt)\n",
    "print(response)"
   ]
  }
 ],
 "metadata": {
  "kernelspec": {
   "display_name": ".venv",
   "language": "python",
   "name": "python3"
  },
  "language_info": {
   "codemirror_mode": {
    "name": "ipython",
    "version": 3
   },
   "file_extension": ".py",
   "mimetype": "text/x-python",
   "name": "python",
   "nbconvert_exporter": "python",
   "pygments_lexer": "ipython3",
   "version": "3.12.3"
  }
 },
 "nbformat": 4,
 "nbformat_minor": 2
}
