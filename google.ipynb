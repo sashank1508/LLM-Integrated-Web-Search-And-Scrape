{
 "cells": [
  {
   "cell_type": "code",
   "execution_count": 2,
   "metadata": {},
   "outputs": [
    {
     "name": "stdout",
     "output_type": "stream",
     "text": [
      "https://www.linkedin.com/in/omermullick\n",
      "https://en.wikipedia.org/wiki/Omar_Mullick\n",
      "https://www.youtube.com/channel/UCxXWPLcRzi5-XQYMhiGlavQ\n",
      "https://www.linkedin.com/posts/omermullick_we-got-our-first-8-customers-for-hypertide-activity-7300545203776405508-XNs_\n",
      "https://x.com/omullick\n",
      "https://www.instagram.com/omermullick/\n",
      "https://www.facebook.com/omer.mullick/\n",
      "https://www.omarmullick.com/bio\n",
      "https://in.pinterest.com/de_demon111/\n",
      "https://evergrowadvisors.com/\n"
     ]
    }
   ],
   "source": [
    "from googlesearch import search\n",
    "\n",
    "query = \"omer mullick\"\n",
    "results = search(query, num_results=10, lang=\"en\")\n",
    "\n",
    "for result in results:\n",
    "    print(result)"
   ]
  }
 ],
 "metadata": {
  "kernelspec": {
   "display_name": ".venv",
   "language": "python",
   "name": "python3"
  },
  "language_info": {
   "codemirror_mode": {
    "name": "ipython",
    "version": 3
   },
   "file_extension": ".py",
   "mimetype": "text/x-python",
   "name": "python",
   "nbconvert_exporter": "python",
   "pygments_lexer": "ipython3",
   "version": "3.12.3"
  }
 },
 "nbformat": 4,
 "nbformat_minor": 2
}
